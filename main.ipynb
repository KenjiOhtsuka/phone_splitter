{
 "cells": [
  {
   "cell_type": "code",
   "execution_count": 17,
   "metadata": {
    "collapsed": true,
    "ExecuteTime": {
     "end_time": "2023-06-28T13:08:03.958350Z",
     "start_time": "2023-06-28T13:08:03.953824Z"
    }
   },
   "outputs": [],
   "source": [
    "file_urls = \"\"\"\n",
    "https://www.soumu.go.jp/main_content/000697543.xls\n",
    "https://www.soumu.go.jp/main_content/000697544.xls\n",
    "https://www.soumu.go.jp/main_content/000697545.xls\n",
    "https://www.soumu.go.jp/main_content/000697546.xls\n",
    "https://www.soumu.go.jp/main_content/000697548.xls\n",
    "https://www.soumu.go.jp/main_content/000697549.xls\n",
    "https://www.soumu.go.jp/main_content/000697550.xls\n",
    "https://www.soumu.go.jp/main_content/000697551.xls\n",
    "https://www.soumu.go.jp/main_content/000697552.xls\n",
    "\"\"\"\n",
    "file_urls = file_urls.split('\\n')\n",
    "file_urls = filter(lambda x: len(x.strip()) > 1, file_urls)\n",
    "file_urls = list(file_urls)\n"
   ]
  },
  {
   "cell_type": "code",
   "execution_count": 24,
   "outputs": [],
   "source": [
    "import pandas as pd\n",
    "import os\n",
    "\n",
    "def put_json(whole, area_code):\n",
    "    path = '/'.join([char for char in whole])\n",
    "    dir_path = 'docs/' + path[:-1]\n",
    "    file_path = dir_path + '/' + path[-1] + '.json'\n",
    "\n",
    "    os.makedirs(dir_path, exist_ok=True)\n",
    "    with open(file_path, 'w') as f:\n",
    "        f.write('{\"area_code\":\"' + area_code + '\",\"area_code_length\":' + str(len(area_code)) + '}')\n",
    "\n",
    "def generate(file_path):\n",
    "    df = pd.read_excel(file_path, header=1, dtype=str)\n",
    "    df.apply(lambda x: put_json(x['番号'], x['市外局番']), axis=1)\n"
   ],
   "metadata": {
    "collapsed": false,
    "ExecuteTime": {
     "end_time": "2023-06-28T13:10:50.969639Z",
     "start_time": "2023-06-28T13:10:50.968183Z"
    }
   }
  },
  {
   "cell_type": "code",
   "execution_count": 26,
   "outputs": [],
   "source": [
    "for file_url in file_urls:\n",
    "    generate(file_url)"
   ],
   "metadata": {
    "collapsed": false,
    "ExecuteTime": {
     "end_time": "2023-06-28T13:12:10.678350Z",
     "start_time": "2023-06-28T13:11:51.022659Z"
    }
   }
  },
  {
   "cell_type": "code",
   "execution_count": null,
   "outputs": [],
   "source": [],
   "metadata": {
    "collapsed": false
   }
  }
 ],
 "metadata": {
  "kernelspec": {
   "display_name": "Python 3",
   "language": "python",
   "name": "python3"
  },
  "language_info": {
   "codemirror_mode": {
    "name": "ipython",
    "version": 2
   },
   "file_extension": ".py",
   "mimetype": "text/x-python",
   "name": "python",
   "nbconvert_exporter": "python",
   "pygments_lexer": "ipython2",
   "version": "2.7.6"
  }
 },
 "nbformat": 4,
 "nbformat_minor": 0
}
